{
 "cells": [
  {
   "cell_type": "code",
   "execution_count": 3,
   "metadata": {},
   "outputs": [],
   "source": [
    "Ra = 0.11\n",
    "Ke = 0.022\n",
    "Jm = 8.7e-5\n",
    "Bm = 8.7e-5\n",
    "\n",
    "TL_max = 0.2\n",
    "W_max = 10\n",
    "Va_max = 12\n",
    "Ia_max = 20\n",
    "\n",
    "Kg = Ke / (Ra * Bm + Ke**2)\n",
    "Tg = (Ra * Jm) / (Ra * Bm + Ke**2)\n",
    "\n",
    "N_torque = 50\n",
    "N_speed = 1 / N_torque"
   ]
  }
 ],
 "metadata": {
  "kernelspec": {
   "display_name": "Python 3.10.5 64-bit",
   "language": "python",
   "name": "python3"
  },
  "language_info": {
   "codemirror_mode": {
    "name": "ipython",
    "version": 3
   },
   "file_extension": ".py",
   "mimetype": "text/x-python",
   "name": "python",
   "nbconvert_exporter": "python",
   "pygments_lexer": "ipython3",
   "version": "3.10.5"
  },
  "orig_nbformat": 4,
  "vscode": {
   "interpreter": {
    "hash": "369f2c481f4da34e4445cda3fffd2e751bd1c4d706f27375911949ba6bb62e1c"
   }
  }
 },
 "nbformat": 4,
 "nbformat_minor": 2
}

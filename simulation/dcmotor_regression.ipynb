{
 "cells": [
  {
   "cell_type": "code",
   "execution_count": 37,
   "metadata": {},
   "outputs": [],
   "source": [
    "import pandas as pd\n",
    "import numpy as np\n",
    "\n",
    "# Circuit Equation\n",
    "# Va = i*Ra + L*di/dt + Ke*w\n",
    "# Tm = Ke*i = TL + Jm*dw/dt + Bm*w\n",
    "\n",
    "df = pd.read_excel(\"dcmotor_simdata.xls\")\n",
    "t = np.array(df[\"Var1\"].array)\n",
    "\n",
    "Ke = 1.6\n",
    "\n",
    "W = np.array(df[\"Var2\"].array)\n",
    "dW = np.concatenate((np.zeros(1), np.diff(W)/np.diff(t)))\n",
    "\n",
    "Va = np.array(df[\"Var4\"].array)\n",
    "\n",
    "Ia = np.array(df[\"Var5\"].array)\n",
    "dIa = np.concatenate((np.zeros(1), np.diff(Ia)/np.diff(t)))\n",
    "\n",
    "TL = np.array(df[\"Var6\"].array)\n",
    "\n",
    "df = pd.DataFrame({\"t\": t, \"W\": W, \"dw\": dW, \"Va\": Va, \"Ia\": Ia, \"dIa\": dIa, \"TL\": TL})"
   ]
  },
  {
   "cell_type": "code",
   "execution_count": 39,
   "metadata": {},
   "outputs": [
    {
     "name": "stdout",
     "output_type": "stream",
     "text": [
      "[[ 0.48996945]\n",
      " [ 0.06782644]\n",
      " [ 4.88353382]\n",
      " [-0.10994833]]\n"
     ]
    }
   ],
   "source": [
    "Xy = np.zeros((4,1))\n",
    "XX_T = np.zeros((4,4))\n",
    "\n",
    "for k in range(len(t)):\n",
    "    y = np.vstack([Va[k] - Ke*W[k], Ke*Ia[k] - TL[k]])\n",
    "    X = np.array([\n",
    "        [Ia[k], dIa[k], 0, 0],\n",
    "        [0, 0, dW[k], W[k]]\n",
    "    ])\n",
    "    Xy += X.T @ y\n",
    "    XX_T += X.T @ X \n",
    "\n",
    "theta = np.linalg.inv(XX_T) @ Xy\n",
    "print(theta)\n",
    "\n",
    "# X = np.vstack([\n",
    "#     [Ia, dIa, np.zeros(len(t)), np.zeros(len(t))], \n",
    "#     [np.zeros(len(t)), np.zeros(len(t)), dW, W]\n",
    "# ])\n",
    "# y = np.vstack([Va - KePhi*W, KePhi*Ia - TL])\n",
    "\n",
    "# theta = np.linalg.pinv(X.T).dot(y)\n",
    "# print(theta)\n"
   ]
  }
 ],
 "metadata": {
  "kernelspec": {
   "display_name": "Python 3.10.5 64-bit",
   "language": "python",
   "name": "python3"
  },
  "language_info": {
   "codemirror_mode": {
    "name": "ipython",
    "version": 3
   },
   "file_extension": ".py",
   "mimetype": "text/x-python",
   "name": "python",
   "nbconvert_exporter": "python",
   "pygments_lexer": "ipython3",
   "version": "3.10.5"
  },
  "orig_nbformat": 4,
  "vscode": {
   "interpreter": {
    "hash": "369f2c481f4da34e4445cda3fffd2e751bd1c4d706f27375911949ba6bb62e1c"
   }
  }
 },
 "nbformat": 4,
 "nbformat_minor": 2
}
